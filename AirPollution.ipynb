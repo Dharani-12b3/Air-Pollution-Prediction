{
  "cells": [
    {
      "cell_type": "markdown",
      "metadata": {
        "id": "view-in-github",
        "colab_type": "text"
      },
      "source": [
        "<a href=\"https://colab.research.google.com/github/Dharani-12b3/Air-Pollution-Prediction/blob/main/AirPollution.ipynb\" target=\"_parent\"><img src=\"https://colab.research.google.com/assets/colab-badge.svg\" alt=\"Open In Colab\"/></a>"
      ]
    },
    {
      "cell_type": "code",
      "execution_count": 54,
      "metadata": {
        "id": "HEzob8i7sV3U"
      },
      "outputs": [],
      "source": [
        "!pip install -q gradio"
      ]
    },
    {
      "cell_type": "code",
      "source": [
        "from google.colab import drive\n",
        "drive.mount('/content/drive')"
      ],
      "metadata": {
        "colab": {
          "base_uri": "https://localhost:8080/"
        },
        "id": "_WXu75kZNmYv",
        "outputId": "4f90ba9e-8fe9-487b-cbdb-413d0c88522c"
      },
      "execution_count": 55,
      "outputs": [
        {
          "output_type": "stream",
          "name": "stdout",
          "text": [
            "Drive already mounted at /content/drive; to attempt to forcibly remount, call drive.mount(\"/content/drive\", force_remount=True).\n"
          ]
        }
      ]
    },
    {
      "cell_type": "code",
      "execution_count": 56,
      "metadata": {
        "id": "W8O-deKsgoXx"
      },
      "outputs": [],
      "source": [
        "#importing libraries\n",
        "import pandas as pd\n",
        "import numpy as np\n",
        "import gradio as gr\n",
        "from sklearn.linear_model import LinearRegression\n",
        "from sklearn.model_selection import train_test_split\n",
        "from sklearn.ensemble import RandomForestRegressor\n",
        "from sklearn.metrics import mean_squared_log_error\n",
        "from tabulate import tabulate\n"
      ]
    },
    {
      "cell_type": "code",
      "source": [
        "train_data = pd.read_csv('/content/drive/MyDrive/machine learning project/train.csv')\n",
        "test_data = pd.read_csv('/content/drive/MyDrive/machine learning project/test .csv')\n",
        "op_data = pd.read_csv('/content/drive/MyDrive/machine learning project/sample_submission.csv')\n"
      ],
      "metadata": {
        "id": "ZcNuAxnJNlD1"
      },
      "execution_count": 57,
      "outputs": []
    },
    {
      "cell_type": "code",
      "execution_count": 58,
      "metadata": {
        "colab": {
          "base_uri": "https://localhost:8080/",
          "height": 444
        },
        "id": "kt73Ij3pq1tv",
        "outputId": "dd8ffded-40a1-4381-a04f-b45ca33ad94d"
      },
      "outputs": [
        {
          "output_type": "execute_result",
          "data": {
            "text/plain": [
              "             date_time  deg_C  relative_humidity  absolute_humidity  sensor_1  \\\n",
              "0  2010-03-10 18:00:00   13.1               46.0             0.7578    1387.2   \n",
              "1  2010-03-10 19:00:00   13.2               45.3             0.7255    1279.1   \n",
              "2  2010-03-10 20:00:00   12.6               56.2             0.7502    1331.9   \n",
              "3  2010-03-10 21:00:00   11.0               62.4             0.7867    1321.0   \n",
              "4  2010-03-10 22:00:00   11.9               59.0             0.7888    1272.0   \n",
              "\n",
              "   sensor_2  sensor_3  sensor_4  sensor_5  target_carbon_monoxide  \\\n",
              "0    1087.8    1056.0    1742.8    1293.4                     2.5   \n",
              "1     888.2    1197.5    1449.9    1010.9                     2.1   \n",
              "2     929.6    1060.2    1586.1    1117.0                     2.2   \n",
              "3     929.0    1102.9    1536.5    1263.2                     2.2   \n",
              "4     852.7    1180.9    1415.5    1132.2                     1.5   \n",
              "\n",
              "   target_benzene  target_nitrogen_oxides  \n",
              "0            12.0                   167.7  \n",
              "1             9.9                    98.9  \n",
              "2             9.2                   127.1  \n",
              "3             9.7                   177.2  \n",
              "4             6.4                   121.8  "
            ],
            "text/html": [
              "\n",
              "  <div id=\"df-ecda3b3e-4d73-45c6-bafc-3c06831d72f3\">\n",
              "    <div class=\"colab-df-container\">\n",
              "      <div>\n",
              "<style scoped>\n",
              "    .dataframe tbody tr th:only-of-type {\n",
              "        vertical-align: middle;\n",
              "    }\n",
              "\n",
              "    .dataframe tbody tr th {\n",
              "        vertical-align: top;\n",
              "    }\n",
              "\n",
              "    .dataframe thead th {\n",
              "        text-align: right;\n",
              "    }\n",
              "</style>\n",
              "<table border=\"1\" class=\"dataframe\">\n",
              "  <thead>\n",
              "    <tr style=\"text-align: right;\">\n",
              "      <th></th>\n",
              "      <th>date_time</th>\n",
              "      <th>deg_C</th>\n",
              "      <th>relative_humidity</th>\n",
              "      <th>absolute_humidity</th>\n",
              "      <th>sensor_1</th>\n",
              "      <th>sensor_2</th>\n",
              "      <th>sensor_3</th>\n",
              "      <th>sensor_4</th>\n",
              "      <th>sensor_5</th>\n",
              "      <th>target_carbon_monoxide</th>\n",
              "      <th>target_benzene</th>\n",
              "      <th>target_nitrogen_oxides</th>\n",
              "    </tr>\n",
              "  </thead>\n",
              "  <tbody>\n",
              "    <tr>\n",
              "      <th>0</th>\n",
              "      <td>2010-03-10 18:00:00</td>\n",
              "      <td>13.1</td>\n",
              "      <td>46.0</td>\n",
              "      <td>0.7578</td>\n",
              "      <td>1387.2</td>\n",
              "      <td>1087.8</td>\n",
              "      <td>1056.0</td>\n",
              "      <td>1742.8</td>\n",
              "      <td>1293.4</td>\n",
              "      <td>2.5</td>\n",
              "      <td>12.0</td>\n",
              "      <td>167.7</td>\n",
              "    </tr>\n",
              "    <tr>\n",
              "      <th>1</th>\n",
              "      <td>2010-03-10 19:00:00</td>\n",
              "      <td>13.2</td>\n",
              "      <td>45.3</td>\n",
              "      <td>0.7255</td>\n",
              "      <td>1279.1</td>\n",
              "      <td>888.2</td>\n",
              "      <td>1197.5</td>\n",
              "      <td>1449.9</td>\n",
              "      <td>1010.9</td>\n",
              "      <td>2.1</td>\n",
              "      <td>9.9</td>\n",
              "      <td>98.9</td>\n",
              "    </tr>\n",
              "    <tr>\n",
              "      <th>2</th>\n",
              "      <td>2010-03-10 20:00:00</td>\n",
              "      <td>12.6</td>\n",
              "      <td>56.2</td>\n",
              "      <td>0.7502</td>\n",
              "      <td>1331.9</td>\n",
              "      <td>929.6</td>\n",
              "      <td>1060.2</td>\n",
              "      <td>1586.1</td>\n",
              "      <td>1117.0</td>\n",
              "      <td>2.2</td>\n",
              "      <td>9.2</td>\n",
              "      <td>127.1</td>\n",
              "    </tr>\n",
              "    <tr>\n",
              "      <th>3</th>\n",
              "      <td>2010-03-10 21:00:00</td>\n",
              "      <td>11.0</td>\n",
              "      <td>62.4</td>\n",
              "      <td>0.7867</td>\n",
              "      <td>1321.0</td>\n",
              "      <td>929.0</td>\n",
              "      <td>1102.9</td>\n",
              "      <td>1536.5</td>\n",
              "      <td>1263.2</td>\n",
              "      <td>2.2</td>\n",
              "      <td>9.7</td>\n",
              "      <td>177.2</td>\n",
              "    </tr>\n",
              "    <tr>\n",
              "      <th>4</th>\n",
              "      <td>2010-03-10 22:00:00</td>\n",
              "      <td>11.9</td>\n",
              "      <td>59.0</td>\n",
              "      <td>0.7888</td>\n",
              "      <td>1272.0</td>\n",
              "      <td>852.7</td>\n",
              "      <td>1180.9</td>\n",
              "      <td>1415.5</td>\n",
              "      <td>1132.2</td>\n",
              "      <td>1.5</td>\n",
              "      <td>6.4</td>\n",
              "      <td>121.8</td>\n",
              "    </tr>\n",
              "  </tbody>\n",
              "</table>\n",
              "</div>\n",
              "      <button class=\"colab-df-convert\" onclick=\"convertToInteractive('df-ecda3b3e-4d73-45c6-bafc-3c06831d72f3')\"\n",
              "              title=\"Convert this dataframe to an interactive table.\"\n",
              "              style=\"display:none;\">\n",
              "        \n",
              "  <svg xmlns=\"http://www.w3.org/2000/svg\" height=\"24px\"viewBox=\"0 0 24 24\"\n",
              "       width=\"24px\">\n",
              "    <path d=\"M0 0h24v24H0V0z\" fill=\"none\"/>\n",
              "    <path d=\"M18.56 5.44l.94 2.06.94-2.06 2.06-.94-2.06-.94-.94-2.06-.94 2.06-2.06.94zm-11 1L8.5 8.5l.94-2.06 2.06-.94-2.06-.94L8.5 2.5l-.94 2.06-2.06.94zm10 10l.94 2.06.94-2.06 2.06-.94-2.06-.94-.94-2.06-.94 2.06-2.06.94z\"/><path d=\"M17.41 7.96l-1.37-1.37c-.4-.4-.92-.59-1.43-.59-.52 0-1.04.2-1.43.59L10.3 9.45l-7.72 7.72c-.78.78-.78 2.05 0 2.83L4 21.41c.39.39.9.59 1.41.59.51 0 1.02-.2 1.41-.59l7.78-7.78 2.81-2.81c.8-.78.8-2.07 0-2.86zM5.41 20L4 18.59l7.72-7.72 1.47 1.35L5.41 20z\"/>\n",
              "  </svg>\n",
              "      </button>\n",
              "      \n",
              "  <style>\n",
              "    .colab-df-container {\n",
              "      display:flex;\n",
              "      flex-wrap:wrap;\n",
              "      gap: 12px;\n",
              "    }\n",
              "\n",
              "    .colab-df-convert {\n",
              "      background-color: #E8F0FE;\n",
              "      border: none;\n",
              "      border-radius: 50%;\n",
              "      cursor: pointer;\n",
              "      display: none;\n",
              "      fill: #1967D2;\n",
              "      height: 32px;\n",
              "      padding: 0 0 0 0;\n",
              "      width: 32px;\n",
              "    }\n",
              "\n",
              "    .colab-df-convert:hover {\n",
              "      background-color: #E2EBFA;\n",
              "      box-shadow: 0px 1px 2px rgba(60, 64, 67, 0.3), 0px 1px 3px 1px rgba(60, 64, 67, 0.15);\n",
              "      fill: #174EA6;\n",
              "    }\n",
              "\n",
              "    [theme=dark] .colab-df-convert {\n",
              "      background-color: #3B4455;\n",
              "      fill: #D2E3FC;\n",
              "    }\n",
              "\n",
              "    [theme=dark] .colab-df-convert:hover {\n",
              "      background-color: #434B5C;\n",
              "      box-shadow: 0px 1px 3px 1px rgba(0, 0, 0, 0.15);\n",
              "      filter: drop-shadow(0px 1px 2px rgba(0, 0, 0, 0.3));\n",
              "      fill: #FFFFFF;\n",
              "    }\n",
              "  </style>\n",
              "\n",
              "      <script>\n",
              "        const buttonEl =\n",
              "          document.querySelector('#df-ecda3b3e-4d73-45c6-bafc-3c06831d72f3 button.colab-df-convert');\n",
              "        buttonEl.style.display =\n",
              "          google.colab.kernel.accessAllowed ? 'block' : 'none';\n",
              "\n",
              "        async function convertToInteractive(key) {\n",
              "          const element = document.querySelector('#df-ecda3b3e-4d73-45c6-bafc-3c06831d72f3');\n",
              "          const dataTable =\n",
              "            await google.colab.kernel.invokeFunction('convertToInteractive',\n",
              "                                                     [key], {});\n",
              "          if (!dataTable) return;\n",
              "\n",
              "          const docLinkHtml = 'Like what you see? Visit the ' +\n",
              "            '<a target=\"_blank\" href=https://colab.research.google.com/notebooks/data_table.ipynb>data table notebook</a>'\n",
              "            + ' to learn more about interactive tables.';\n",
              "          element.innerHTML = '';\n",
              "          dataTable['output_type'] = 'display_data';\n",
              "          await google.colab.output.renderOutput(dataTable, element);\n",
              "          const docLink = document.createElement('div');\n",
              "          docLink.innerHTML = docLinkHtml;\n",
              "          element.appendChild(docLink);\n",
              "        }\n",
              "      </script>\n",
              "    </div>\n",
              "  </div>\n",
              "  "
            ]
          },
          "metadata": {},
          "execution_count": 58
        }
      ],
      "source": [
        "train_data.head()"
      ]
    },
    {
      "cell_type": "code",
      "execution_count": 59,
      "metadata": {
        "colab": {
          "base_uri": "https://localhost:8080/",
          "height": 206
        },
        "id": "OZUfXwOsq6Ov",
        "outputId": "120dd78f-4402-4848-b125-04707a2f9842"
      },
      "outputs": [
        {
          "output_type": "execute_result",
          "data": {
            "text/plain": [
              "             date_time  deg_C  relative_humidity  absolute_humidity  sensor_1  \\\n",
              "0  2011-01-01 00:00:00    8.0               41.3             0.4375    1108.8   \n",
              "1  2011-01-01 01:00:00    5.1               51.7             0.4564    1249.5   \n",
              "2  2011-01-01 02:00:00    5.8               51.5             0.4689    1102.6   \n",
              "3  2011-01-01 03:00:00    5.0               52.3             0.4693    1139.7   \n",
              "4  2011-01-01 04:00:00    4.5               57.5             0.4650    1022.4   \n",
              "\n",
              "   sensor_2  sensor_3  sensor_4  sensor_5  \n",
              "0     745.7     797.1     880.0    1273.1  \n",
              "1     864.9     687.9     972.8    1714.0  \n",
              "2     878.0     693.7     941.9    1300.8  \n",
              "3     916.2     725.6    1011.0    1283.0  \n",
              "4     838.5     871.5     967.0    1142.3  "
            ],
            "text/html": [
              "\n",
              "  <div id=\"df-89fc5d5f-1c30-4fd7-a518-2f8deead9bae\">\n",
              "    <div class=\"colab-df-container\">\n",
              "      <div>\n",
              "<style scoped>\n",
              "    .dataframe tbody tr th:only-of-type {\n",
              "        vertical-align: middle;\n",
              "    }\n",
              "\n",
              "    .dataframe tbody tr th {\n",
              "        vertical-align: top;\n",
              "    }\n",
              "\n",
              "    .dataframe thead th {\n",
              "        text-align: right;\n",
              "    }\n",
              "</style>\n",
              "<table border=\"1\" class=\"dataframe\">\n",
              "  <thead>\n",
              "    <tr style=\"text-align: right;\">\n",
              "      <th></th>\n",
              "      <th>date_time</th>\n",
              "      <th>deg_C</th>\n",
              "      <th>relative_humidity</th>\n",
              "      <th>absolute_humidity</th>\n",
              "      <th>sensor_1</th>\n",
              "      <th>sensor_2</th>\n",
              "      <th>sensor_3</th>\n",
              "      <th>sensor_4</th>\n",
              "      <th>sensor_5</th>\n",
              "    </tr>\n",
              "  </thead>\n",
              "  <tbody>\n",
              "    <tr>\n",
              "      <th>0</th>\n",
              "      <td>2011-01-01 00:00:00</td>\n",
              "      <td>8.0</td>\n",
              "      <td>41.3</td>\n",
              "      <td>0.4375</td>\n",
              "      <td>1108.8</td>\n",
              "      <td>745.7</td>\n",
              "      <td>797.1</td>\n",
              "      <td>880.0</td>\n",
              "      <td>1273.1</td>\n",
              "    </tr>\n",
              "    <tr>\n",
              "      <th>1</th>\n",
              "      <td>2011-01-01 01:00:00</td>\n",
              "      <td>5.1</td>\n",
              "      <td>51.7</td>\n",
              "      <td>0.4564</td>\n",
              "      <td>1249.5</td>\n",
              "      <td>864.9</td>\n",
              "      <td>687.9</td>\n",
              "      <td>972.8</td>\n",
              "      <td>1714.0</td>\n",
              "    </tr>\n",
              "    <tr>\n",
              "      <th>2</th>\n",
              "      <td>2011-01-01 02:00:00</td>\n",
              "      <td>5.8</td>\n",
              "      <td>51.5</td>\n",
              "      <td>0.4689</td>\n",
              "      <td>1102.6</td>\n",
              "      <td>878.0</td>\n",
              "      <td>693.7</td>\n",
              "      <td>941.9</td>\n",
              "      <td>1300.8</td>\n",
              "    </tr>\n",
              "    <tr>\n",
              "      <th>3</th>\n",
              "      <td>2011-01-01 03:00:00</td>\n",
              "      <td>5.0</td>\n",
              "      <td>52.3</td>\n",
              "      <td>0.4693</td>\n",
              "      <td>1139.7</td>\n",
              "      <td>916.2</td>\n",
              "      <td>725.6</td>\n",
              "      <td>1011.0</td>\n",
              "      <td>1283.0</td>\n",
              "    </tr>\n",
              "    <tr>\n",
              "      <th>4</th>\n",
              "      <td>2011-01-01 04:00:00</td>\n",
              "      <td>4.5</td>\n",
              "      <td>57.5</td>\n",
              "      <td>0.4650</td>\n",
              "      <td>1022.4</td>\n",
              "      <td>838.5</td>\n",
              "      <td>871.5</td>\n",
              "      <td>967.0</td>\n",
              "      <td>1142.3</td>\n",
              "    </tr>\n",
              "  </tbody>\n",
              "</table>\n",
              "</div>\n",
              "      <button class=\"colab-df-convert\" onclick=\"convertToInteractive('df-89fc5d5f-1c30-4fd7-a518-2f8deead9bae')\"\n",
              "              title=\"Convert this dataframe to an interactive table.\"\n",
              "              style=\"display:none;\">\n",
              "        \n",
              "  <svg xmlns=\"http://www.w3.org/2000/svg\" height=\"24px\"viewBox=\"0 0 24 24\"\n",
              "       width=\"24px\">\n",
              "    <path d=\"M0 0h24v24H0V0z\" fill=\"none\"/>\n",
              "    <path d=\"M18.56 5.44l.94 2.06.94-2.06 2.06-.94-2.06-.94-.94-2.06-.94 2.06-2.06.94zm-11 1L8.5 8.5l.94-2.06 2.06-.94-2.06-.94L8.5 2.5l-.94 2.06-2.06.94zm10 10l.94 2.06.94-2.06 2.06-.94-2.06-.94-.94-2.06-.94 2.06-2.06.94z\"/><path d=\"M17.41 7.96l-1.37-1.37c-.4-.4-.92-.59-1.43-.59-.52 0-1.04.2-1.43.59L10.3 9.45l-7.72 7.72c-.78.78-.78 2.05 0 2.83L4 21.41c.39.39.9.59 1.41.59.51 0 1.02-.2 1.41-.59l7.78-7.78 2.81-2.81c.8-.78.8-2.07 0-2.86zM5.41 20L4 18.59l7.72-7.72 1.47 1.35L5.41 20z\"/>\n",
              "  </svg>\n",
              "      </button>\n",
              "      \n",
              "  <style>\n",
              "    .colab-df-container {\n",
              "      display:flex;\n",
              "      flex-wrap:wrap;\n",
              "      gap: 12px;\n",
              "    }\n",
              "\n",
              "    .colab-df-convert {\n",
              "      background-color: #E8F0FE;\n",
              "      border: none;\n",
              "      border-radius: 50%;\n",
              "      cursor: pointer;\n",
              "      display: none;\n",
              "      fill: #1967D2;\n",
              "      height: 32px;\n",
              "      padding: 0 0 0 0;\n",
              "      width: 32px;\n",
              "    }\n",
              "\n",
              "    .colab-df-convert:hover {\n",
              "      background-color: #E2EBFA;\n",
              "      box-shadow: 0px 1px 2px rgba(60, 64, 67, 0.3), 0px 1px 3px 1px rgba(60, 64, 67, 0.15);\n",
              "      fill: #174EA6;\n",
              "    }\n",
              "\n",
              "    [theme=dark] .colab-df-convert {\n",
              "      background-color: #3B4455;\n",
              "      fill: #D2E3FC;\n",
              "    }\n",
              "\n",
              "    [theme=dark] .colab-df-convert:hover {\n",
              "      background-color: #434B5C;\n",
              "      box-shadow: 0px 1px 3px 1px rgba(0, 0, 0, 0.15);\n",
              "      filter: drop-shadow(0px 1px 2px rgba(0, 0, 0, 0.3));\n",
              "      fill: #FFFFFF;\n",
              "    }\n",
              "  </style>\n",
              "\n",
              "      <script>\n",
              "        const buttonEl =\n",
              "          document.querySelector('#df-89fc5d5f-1c30-4fd7-a518-2f8deead9bae button.colab-df-convert');\n",
              "        buttonEl.style.display =\n",
              "          google.colab.kernel.accessAllowed ? 'block' : 'none';\n",
              "\n",
              "        async function convertToInteractive(key) {\n",
              "          const element = document.querySelector('#df-89fc5d5f-1c30-4fd7-a518-2f8deead9bae');\n",
              "          const dataTable =\n",
              "            await google.colab.kernel.invokeFunction('convertToInteractive',\n",
              "                                                     [key], {});\n",
              "          if (!dataTable) return;\n",
              "\n",
              "          const docLinkHtml = 'Like what you see? Visit the ' +\n",
              "            '<a target=\"_blank\" href=https://colab.research.google.com/notebooks/data_table.ipynb>data table notebook</a>'\n",
              "            + ' to learn more about interactive tables.';\n",
              "          element.innerHTML = '';\n",
              "          dataTable['output_type'] = 'display_data';\n",
              "          await google.colab.output.renderOutput(dataTable, element);\n",
              "          const docLink = document.createElement('div');\n",
              "          docLink.innerHTML = docLinkHtml;\n",
              "          element.appendChild(docLink);\n",
              "        }\n",
              "      </script>\n",
              "    </div>\n",
              "  </div>\n",
              "  "
            ]
          },
          "metadata": {},
          "execution_count": 59
        }
      ],
      "source": [
        "test_data.head()"
      ]
    },
    {
      "cell_type": "code",
      "execution_count": 60,
      "metadata": {
        "colab": {
          "base_uri": "https://localhost:8080/",
          "height": 206
        },
        "id": "oZ1Z52luhSGW",
        "outputId": "6288d94a-f7c6-4826-b7f6-17a4a600a3b0"
      },
      "outputs": [
        {
          "output_type": "execute_result",
          "data": {
            "text/plain": [
              "             date_time  target_carbon_monoxide  target_benzene  \\\n",
              "0  2011-01-01 00:00:00                     2.0            10.0   \n",
              "1  2011-01-01 01:00:00                     2.0            10.0   \n",
              "2  2011-01-01 02:00:00                     2.0            10.0   \n",
              "3  2011-01-01 03:00:00                     2.0            10.0   \n",
              "4  2011-01-01 04:00:00                     2.0            10.0   \n",
              "\n",
              "   target_nitrogen_oxides  \n",
              "0                   300.0  \n",
              "1                   300.0  \n",
              "2                   300.0  \n",
              "3                   300.0  \n",
              "4                   300.0  "
            ],
            "text/html": [
              "\n",
              "  <div id=\"df-b3bd4abf-c589-4165-9c8c-693154d48701\">\n",
              "    <div class=\"colab-df-container\">\n",
              "      <div>\n",
              "<style scoped>\n",
              "    .dataframe tbody tr th:only-of-type {\n",
              "        vertical-align: middle;\n",
              "    }\n",
              "\n",
              "    .dataframe tbody tr th {\n",
              "        vertical-align: top;\n",
              "    }\n",
              "\n",
              "    .dataframe thead th {\n",
              "        text-align: right;\n",
              "    }\n",
              "</style>\n",
              "<table border=\"1\" class=\"dataframe\">\n",
              "  <thead>\n",
              "    <tr style=\"text-align: right;\">\n",
              "      <th></th>\n",
              "      <th>date_time</th>\n",
              "      <th>target_carbon_monoxide</th>\n",
              "      <th>target_benzene</th>\n",
              "      <th>target_nitrogen_oxides</th>\n",
              "    </tr>\n",
              "  </thead>\n",
              "  <tbody>\n",
              "    <tr>\n",
              "      <th>0</th>\n",
              "      <td>2011-01-01 00:00:00</td>\n",
              "      <td>2.0</td>\n",
              "      <td>10.0</td>\n",
              "      <td>300.0</td>\n",
              "    </tr>\n",
              "    <tr>\n",
              "      <th>1</th>\n",
              "      <td>2011-01-01 01:00:00</td>\n",
              "      <td>2.0</td>\n",
              "      <td>10.0</td>\n",
              "      <td>300.0</td>\n",
              "    </tr>\n",
              "    <tr>\n",
              "      <th>2</th>\n",
              "      <td>2011-01-01 02:00:00</td>\n",
              "      <td>2.0</td>\n",
              "      <td>10.0</td>\n",
              "      <td>300.0</td>\n",
              "    </tr>\n",
              "    <tr>\n",
              "      <th>3</th>\n",
              "      <td>2011-01-01 03:00:00</td>\n",
              "      <td>2.0</td>\n",
              "      <td>10.0</td>\n",
              "      <td>300.0</td>\n",
              "    </tr>\n",
              "    <tr>\n",
              "      <th>4</th>\n",
              "      <td>2011-01-01 04:00:00</td>\n",
              "      <td>2.0</td>\n",
              "      <td>10.0</td>\n",
              "      <td>300.0</td>\n",
              "    </tr>\n",
              "  </tbody>\n",
              "</table>\n",
              "</div>\n",
              "      <button class=\"colab-df-convert\" onclick=\"convertToInteractive('df-b3bd4abf-c589-4165-9c8c-693154d48701')\"\n",
              "              title=\"Convert this dataframe to an interactive table.\"\n",
              "              style=\"display:none;\">\n",
              "        \n",
              "  <svg xmlns=\"http://www.w3.org/2000/svg\" height=\"24px\"viewBox=\"0 0 24 24\"\n",
              "       width=\"24px\">\n",
              "    <path d=\"M0 0h24v24H0V0z\" fill=\"none\"/>\n",
              "    <path d=\"M18.56 5.44l.94 2.06.94-2.06 2.06-.94-2.06-.94-.94-2.06-.94 2.06-2.06.94zm-11 1L8.5 8.5l.94-2.06 2.06-.94-2.06-.94L8.5 2.5l-.94 2.06-2.06.94zm10 10l.94 2.06.94-2.06 2.06-.94-2.06-.94-.94-2.06-.94 2.06-2.06.94z\"/><path d=\"M17.41 7.96l-1.37-1.37c-.4-.4-.92-.59-1.43-.59-.52 0-1.04.2-1.43.59L10.3 9.45l-7.72 7.72c-.78.78-.78 2.05 0 2.83L4 21.41c.39.39.9.59 1.41.59.51 0 1.02-.2 1.41-.59l7.78-7.78 2.81-2.81c.8-.78.8-2.07 0-2.86zM5.41 20L4 18.59l7.72-7.72 1.47 1.35L5.41 20z\"/>\n",
              "  </svg>\n",
              "      </button>\n",
              "      \n",
              "  <style>\n",
              "    .colab-df-container {\n",
              "      display:flex;\n",
              "      flex-wrap:wrap;\n",
              "      gap: 12px;\n",
              "    }\n",
              "\n",
              "    .colab-df-convert {\n",
              "      background-color: #E8F0FE;\n",
              "      border: none;\n",
              "      border-radius: 50%;\n",
              "      cursor: pointer;\n",
              "      display: none;\n",
              "      fill: #1967D2;\n",
              "      height: 32px;\n",
              "      padding: 0 0 0 0;\n",
              "      width: 32px;\n",
              "    }\n",
              "\n",
              "    .colab-df-convert:hover {\n",
              "      background-color: #E2EBFA;\n",
              "      box-shadow: 0px 1px 2px rgba(60, 64, 67, 0.3), 0px 1px 3px 1px rgba(60, 64, 67, 0.15);\n",
              "      fill: #174EA6;\n",
              "    }\n",
              "\n",
              "    [theme=dark] .colab-df-convert {\n",
              "      background-color: #3B4455;\n",
              "      fill: #D2E3FC;\n",
              "    }\n",
              "\n",
              "    [theme=dark] .colab-df-convert:hover {\n",
              "      background-color: #434B5C;\n",
              "      box-shadow: 0px 1px 3px 1px rgba(0, 0, 0, 0.15);\n",
              "      filter: drop-shadow(0px 1px 2px rgba(0, 0, 0, 0.3));\n",
              "      fill: #FFFFFF;\n",
              "    }\n",
              "  </style>\n",
              "\n",
              "      <script>\n",
              "        const buttonEl =\n",
              "          document.querySelector('#df-b3bd4abf-c589-4165-9c8c-693154d48701 button.colab-df-convert');\n",
              "        buttonEl.style.display =\n",
              "          google.colab.kernel.accessAllowed ? 'block' : 'none';\n",
              "\n",
              "        async function convertToInteractive(key) {\n",
              "          const element = document.querySelector('#df-b3bd4abf-c589-4165-9c8c-693154d48701');\n",
              "          const dataTable =\n",
              "            await google.colab.kernel.invokeFunction('convertToInteractive',\n",
              "                                                     [key], {});\n",
              "          if (!dataTable) return;\n",
              "\n",
              "          const docLinkHtml = 'Like what you see? Visit the ' +\n",
              "            '<a target=\"_blank\" href=https://colab.research.google.com/notebooks/data_table.ipynb>data table notebook</a>'\n",
              "            + ' to learn more about interactive tables.';\n",
              "          element.innerHTML = '';\n",
              "          dataTable['output_type'] = 'display_data';\n",
              "          await google.colab.output.renderOutput(dataTable, element);\n",
              "          const docLink = document.createElement('div');\n",
              "          docLink.innerHTML = docLinkHtml;\n",
              "          element.appendChild(docLink);\n",
              "        }\n",
              "      </script>\n",
              "    </div>\n",
              "  </div>\n",
              "  "
            ]
          },
          "metadata": {},
          "execution_count": 60
        }
      ],
      "source": [
        "op_data.head()"
      ]
    },
    {
      "cell_type": "code",
      "execution_count": 61,
      "metadata": {
        "colab": {
          "base_uri": "https://localhost:8080/"
        },
        "id": "ejQVRIpxrAOK",
        "outputId": "4d68ab11-100c-432c-9572-a56d71477ea3"
      },
      "outputs": [
        {
          "output_type": "stream",
          "name": "stdout",
          "text": [
            "<class 'pandas.core.frame.DataFrame'>\n",
            "RangeIndex: 7111 entries, 0 to 7110\n",
            "Data columns (total 12 columns):\n",
            " #   Column                  Non-Null Count  Dtype  \n",
            "---  ------                  --------------  -----  \n",
            " 0   date_time               7111 non-null   object \n",
            " 1   deg_C                   7111 non-null   float64\n",
            " 2   relative_humidity       7111 non-null   float64\n",
            " 3   absolute_humidity       7111 non-null   float64\n",
            " 4   sensor_1                7111 non-null   float64\n",
            " 5   sensor_2                7111 non-null   float64\n",
            " 6   sensor_3                7111 non-null   float64\n",
            " 7   sensor_4                7111 non-null   float64\n",
            " 8   sensor_5                7111 non-null   float64\n",
            " 9   target_carbon_monoxide  7111 non-null   float64\n",
            " 10  target_benzene          7111 non-null   float64\n",
            " 11  target_nitrogen_oxides  7111 non-null   float64\n",
            "dtypes: float64(11), object(1)\n",
            "memory usage: 666.8+ KB\n"
          ]
        }
      ],
      "source": [
        "train_data.info()"
      ]
    },
    {
      "cell_type": "code",
      "execution_count": 62,
      "metadata": {
        "id": "AA4qwN6QgvQa"
      },
      "outputs": [],
      "source": [
        "\n",
        "features = ['deg_C', 'relative_humidity', 'absolute_humidity', 'sensor_1', 'sensor_2', 'sensor_3', 'sensor_4', 'sensor_5']\n",
        "target = ['target_carbon_monoxide', 'target_benzene', 'target_nitrogen_oxides']\n"
      ]
    },
    {
      "cell_type": "code",
      "execution_count": 63,
      "metadata": {
        "id": "cDQBILH-gx5J"
      },
      "outputs": [],
      "source": [
        "X_train, X_val, y_train, y_val = train_test_split(train_data[features], train_data[target], test_size=0.2, random_state=42)\n"
      ]
    },
    {
      "cell_type": "markdown",
      "source": [
        "**Linear Regression**"
      ],
      "metadata": {
        "id": "7bLOMhUEXorX"
      }
    },
    {
      "cell_type": "code",
      "source": [
        "'''from sklearn.linear_model import LinearRegression\n",
        "from sklearn.metrics import mean_squared_log_error\n",
        "\n",
        "# Initialize LinearRegression models\n",
        "linear_reg_carbon_monoxide = LinearRegression()\n",
        "linear_reg_benzene = LinearRegression()\n",
        "linear_reg_nitrogen_oxides = LinearRegression()\n",
        "\n",
        "# Fit LinearRegression models\n",
        "linear_reg_carbon_monoxide.fit(X_train, y_train['target_carbon_monoxide'])\n",
        "linear_reg_benzene.fit(X_train, y_train['target_benzene'])\n",
        "linear_reg_nitrogen_oxides.fit(X_train, y_train['target_nitrogen_oxides'])\n",
        "\n",
        "# Predict using LinearRegression models\n",
        "carbon_monoxide_preds = linear_reg_carbon_monoxide.predict(X_val)\n",
        "benzene_preds = linear_reg_benzene.predict(X_val)\n",
        "nitrogen_oxides_preds = linear_reg_nitrogen_oxides.predict(X_val)\n",
        "\n",
        "from sklearn.metrics import mean_squared_error\n",
        "\n",
        "# Calculate RMSE instead of RMSLE\n",
        "rmse_carbon_monoxide = np.sqrt(mean_squared_error(y_val['target_carbon_monoxide'], carbon_monoxide_preds))\n",
        "rmse_benzene = np.sqrt(mean_squared_error(y_val['target_benzene'], benzene_preds))\n",
        "rmse_nitrogen_oxides = np.sqrt(mean_squared_error(y_val['target_nitrogen_oxides'], nitrogen_oxides_preds))\n",
        "\n",
        "# Print RMSE values\n",
        "print('RMSE for carbon monoxide:', rmse_carbon_monoxide)\n",
        "print('RMSE for benzene:', rmse_benzene)\n",
        "print('RMSE for nitrogen oxides:', rmse_nitrogen_oxides)\n",
        "\n",
        "RMSE for carbon monoxide: 0.6165333056387582\n",
        "RMSE for benzene: 1.838907674366134\n",
        "RMSE for nitrogen oxides: 113.65390626798047\n",
        "'''"
      ],
      "metadata": {
        "colab": {
          "base_uri": "https://localhost:8080/",
          "height": 140
        },
        "id": "L-DOO1ARTgkS",
        "outputId": "85ea0949-abab-4da9-b8ba-262adec8cba6"
      },
      "execution_count": 64,
      "outputs": [
        {
          "output_type": "execute_result",
          "data": {
            "text/plain": [
              "\"from sklearn.linear_model import LinearRegression\\nfrom sklearn.metrics import mean_squared_log_error\\n\\n# Initialize LinearRegression models\\nlinear_reg_carbon_monoxide = LinearRegression()\\nlinear_reg_benzene = LinearRegression()\\nlinear_reg_nitrogen_oxides = LinearRegression()\\n\\n# Fit LinearRegression models\\nlinear_reg_carbon_monoxide.fit(X_train, y_train['target_carbon_monoxide'])\\nlinear_reg_benzene.fit(X_train, y_train['target_benzene'])\\nlinear_reg_nitrogen_oxides.fit(X_train, y_train['target_nitrogen_oxides'])\\n\\n# Predict using LinearRegression models\\ncarbon_monoxide_preds = linear_reg_carbon_monoxide.predict(X_val)\\nbenzene_preds = linear_reg_benzene.predict(X_val)\\nnitrogen_oxides_preds = linear_reg_nitrogen_oxides.predict(X_val)\\n\\nfrom sklearn.metrics import mean_squared_error\\n\\n# Calculate RMSE instead of RMSLE\\nrmse_carbon_monoxide = np.sqrt(mean_squared_error(y_val['target_carbon_monoxide'], carbon_monoxide_preds))\\nrmse_benzene = np.sqrt(mean_squared_error(y_val['target_benzene'], benzene_preds))\\nrmse_nitrogen_oxides = np.sqrt(mean_squared_error(y_val['target_nitrogen_oxides'], nitrogen_oxides_preds))\\n\\n# Print RMSE values\\nprint('RMSE for carbon monoxide:', rmse_carbon_monoxide)\\nprint('RMSE for benzene:', rmse_benzene)\\nprint('RMSE for nitrogen oxides:', rmse_nitrogen_oxides)\\n\\nRMSE for carbon monoxide: 0.6165333056387582\\nRMSE for benzene: 1.838907674366134\\nRMSE for nitrogen oxides: 113.65390626798047\\n\""
            ],
            "application/vnd.google.colaboratory.intrinsic+json": {
              "type": "string"
            }
          },
          "metadata": {},
          "execution_count": 64
        }
      ]
    },
    {
      "cell_type": "markdown",
      "source": [
        " **Random Forest Regression**"
      ],
      "metadata": {
        "id": "3u1DXh32XysZ"
      }
    },
    {
      "cell_type": "code",
      "execution_count": 65,
      "metadata": {
        "id": "srYOX-nxg0no",
        "colab": {
          "base_uri": "https://localhost:8080/",
          "height": 87
        },
        "outputId": "a87d9d49-5afe-4c8e-852e-54040223ebf5"
      },
      "outputs": [
        {
          "output_type": "execute_result",
          "data": {
            "text/plain": [
              "\"rf_carbon_monoxide = RandomForestRegressor(n_estimators=100, random_state=42)\\nrf_carbon_monoxide.fit(X_train, y_train['target_carbon_monoxide'])\\ncarbon_monoxide_preds = rf_carbon_monoxide.predict(X_val)\\n\\nrf_benzene = RandomForestRegressor(n_estimators=100, random_state=42)\\nrf_benzene.fit(X_train, y_train['target_benzene'])\\nbenzene_preds = rf_benzene.predict(X_val)\\n\\nrf_nitrogen_oxides = RandomForestRegressor(n_estimators=100, random_state=42)\\nrf_nitrogen_oxides.fit(X_train, y_train['target_nitrogen_oxides'])\\nnitrogen_oxides_preds = rf_nitrogen_oxides.predict(X_val)\\n\""
            ],
            "application/vnd.google.colaboratory.intrinsic+json": {
              "type": "string"
            }
          },
          "metadata": {},
          "execution_count": 65
        }
      ],
      "source": [
        "'''rf_carbon_monoxide = RandomForestRegressor(n_estimators=100, random_state=42)\n",
        "rf_carbon_monoxide.fit(X_train, y_train['target_carbon_monoxide'])\n",
        "carbon_monoxide_preds = rf_carbon_monoxide.predict(X_val)\n",
        "\n",
        "rf_benzene = RandomForestRegressor(n_estimators=100, random_state=42)\n",
        "rf_benzene.fit(X_train, y_train['target_benzene'])\n",
        "benzene_preds = rf_benzene.predict(X_val)\n",
        "\n",
        "rf_nitrogen_oxides = RandomForestRegressor(n_estimators=100, random_state=42)\n",
        "rf_nitrogen_oxides.fit(X_train, y_train['target_nitrogen_oxides'])\n",
        "nitrogen_oxides_preds = rf_nitrogen_oxides.predict(X_val)\n",
        "'''"
      ]
    },
    {
      "cell_type": "markdown",
      "source": [
        " **Comparision of model**"
      ],
      "metadata": {
        "id": "susLKIe_cG2z"
      }
    },
    {
      "cell_type": "code",
      "source": [
        "linear_reg_carbon_monoxide = LinearRegression()\n",
        "linear_reg_benzene = LinearRegression()\n",
        "linear_reg_nitrogen_oxides = LinearRegression()\n",
        "# Fit LinearRegression models\n",
        "linear_reg_carbon_monoxide.fit(X_train, y_train['target_carbon_monoxide'])\n",
        "linear_reg_benzene.fit(X_train, y_train['target_benzene'])\n",
        "linear_reg_nitrogen_oxides.fit(X_train, y_train['target_nitrogen_oxides'])\n",
        "\n",
        "# Predict using LinearRegression models\n",
        "carbon_monoxide_preds_lr = linear_reg_carbon_monoxide.predict(X_val)\n",
        "benzene_preds_lr = linear_reg_benzene.predict(X_val)\n",
        "nitrogen_oxides_preds_lr = linear_reg_nitrogen_oxides.predict(X_val)"
      ],
      "metadata": {
        "id": "GkortovJahpH"
      },
      "execution_count": 66,
      "outputs": []
    },
    {
      "cell_type": "code",
      "source": [
        "# Initialize RandomForestRegressor models\n",
        "rf_carbon_monoxide = RandomForestRegressor(n_estimators=100, random_state=42)\n",
        "rf_benzene = RandomForestRegressor(n_estimators=100, random_state=42)\n",
        "rf_nitrogen_oxides = RandomForestRegressor(n_estimators=100, random_state=42)\n",
        "\n",
        "# Fit RandomForestRegressor models\n",
        "rf_carbon_monoxide.fit(X_train, y_train['target_carbon_monoxide'])\n",
        "rf_benzene.fit(X_train, y_train['target_benzene'])\n",
        "rf_nitrogen_oxides.fit(X_train, y_train['target_nitrogen_oxides'])\n",
        "\n",
        "# Predict using RandomForestRegressor models\n",
        "carbon_monoxide_preds_rf = rf_carbon_monoxide.predict(X_val)\n",
        "benzene_preds_rf = rf_benzene.predict(X_val)\n",
        "nitrogen_oxides_preds_rf = rf_nitrogen_oxides.predict(X_val)\n"
      ],
      "metadata": {
        "id": "tPIczDrXbMCR"
      },
      "execution_count": 67,
      "outputs": []
    },
    {
      "cell_type": "code",
      "source": [
        "# Calculate RMSE for Linear Regression\n",
        "rmse_carbon_monoxide_lr = np.sqrt(mean_squared_error(y_val['target_carbon_monoxide'], carbon_monoxide_preds_lr))\n",
        "rmse_benzene_lr = np.sqrt(mean_squared_error(y_val['target_benzene'], benzene_preds_lr))\n",
        "rmse_nitrogen_oxides_lr = np.sqrt(mean_squared_error(y_val['target_nitrogen_oxides'], nitrogen_oxides_preds_lr))\n",
        "\n",
        "# Calculate RMSE for Random Forest Regression\n",
        "rmse_carbon_monoxide_rf = np.sqrt(mean_squared_error(y_val['target_carbon_monoxide'], carbon_monoxide_preds_rf))\n",
        "rmse_benzene_rf = np.sqrt(mean_squared_error(y_val['target_benzene'], benzene_preds_rf))\n",
        "rmse_nitrogen_oxides_rf = np.sqrt(mean_squared_error(y_val['target_nitrogen_oxides'], nitrogen_oxides_preds_rf))\n",
        "\n",
        "# Calculate RMSLE\n",
        "rmsle_carbon_monoxide_rf = np.sqrt(mean_squared_log_error(y_val['target_carbon_monoxide'], carbon_monoxide_preds_rf))\n",
        "rmsle_benzene_rf = np.sqrt(mean_squared_log_error(y_val['target_benzene'], benzene_preds_rf))\n",
        "rmsle_nitrogen_oxides_rf = np.sqrt(mean_squared_log_error(y_val['target_nitrogen_oxides'], nitrogen_oxides_preds_rf))\n"
      ],
      "metadata": {
        "id": "b7Qlkf1wberg"
      },
      "execution_count": 68,
      "outputs": []
    },
    {
      "cell_type": "code",
      "source": [
        "# Prepare data for tabulate\n",
        "headers = ['Model', 'RMSE', 'RMSLE']\n",
        "data = [['Linear Regression (Carbon Monoxide)', rmse_carbon_monoxide_lr, '-'],\n",
        "        ['Linear Regression (Benzene)', rmse_benzene_lr, '-'],\n",
        "        ['Linear Regression (Nitrogen Oxides)', rmse_nitrogen_oxides_lr, '-'],\n",
        "        ['Random Forest Regression (Carbon Monoxide)', rmse_carbon_monoxide_rf, rmsle_carbon_monoxide_rf],\n",
        "        ['Random Forest Regression (Benzene)', rmse_benzene_rf, rmsle_benzene_rf],\n",
        "        ['Random Forest Regression (Nitrogen Oxides)', rmse_nitrogen_oxides_rf, rmsle_nitrogen_oxides_rf]]\n",
        "\n",
        "# Print results using tabulate\n",
        "print(tabulate(data, headers=headers))"
      ],
      "metadata": {
        "colab": {
          "base_uri": "https://localhost:8080/"
        },
        "id": "ZbyCSiKLaBsL",
        "outputId": "161af980-e7f7-440a-c91e-c1efd70b53c4"
      },
      "execution_count": 69,
      "outputs": [
        {
          "output_type": "stream",
          "name": "stdout",
          "text": [
            "Model                                             RMSE  RMSLE\n",
            "------------------------------------------  ----------  -------------------\n",
            "Linear Regression (Carbon Monoxide)           0.616533  -\n",
            "Linear Regression (Benzene)                   1.83891   -\n",
            "Linear Regression (Nitrogen Oxides)         113.654     -\n",
            "Random Forest Regression (Carbon Monoxide)    0.483088  0.1361581831870301\n",
            "Random Forest Regression (Benzene)            1.30728   0.09393850643737371\n",
            "Random Forest Regression (Nitrogen Oxides)   79.3434    0.33143521875786836\n"
          ]
        }
      ]
    },
    {
      "cell_type": "markdown",
      "source": [
        "**Submission File**"
      ],
      "metadata": {
        "id": "cbdvlRzHdRen"
      }
    },
    {
      "cell_type": "code",
      "execution_count": 70,
      "metadata": {
        "id": "n9O_f2lMg-4z"
      },
      "outputs": [],
      "source": [
        "carbon_monoxide_test_preds = rf_carbon_monoxide.predict(test_data[features])\n",
        "benzene_test_preds = rf_benzene.predict(test_data[features])\n",
        "nitrogen_oxides_test_preds = rf_nitrogen_oxides.predict(test_data[features])\n",
        "\n",
        "submission = pd.DataFrame({\n",
        "    'date_time': test_data['date_time'],\n",
        "    'target_carbon_monoxide': carbon_monoxide_test_preds,\n",
        "    'target_benzene': benzene_test_preds,\n",
        "    'target_nitrogen_oxides': nitrogen_oxides_test_preds\n",
        "})\n",
        "\n",
        "submission.to_csv('submission.csv', index=False)\n"
      ]
    },
    {
      "cell_type": "markdown",
      "source": [
        "# **Gradio**\n"
      ],
      "metadata": {
        "id": "vt77MjLicShI"
      }
    },
    {
      "cell_type": "code",
      "source": [
        "def airpollution(deg_C,relative_humidity,absolute_humidity,sensor_1,sensor_2,sensor_3,sensor_4,sensor_5):\n",
        "    df = pd.DataFrame.from_dict({'deg_C': [deg_C], 'relative_humidity': [relative_humidity], 'absolute_humidity': [absolute_humidity],'sensor_1':[sensor_1],'sensor_2':[sensor_2],'sensor_3':[sensor_3],'sensor_4':[sensor_4],'sensor_5':[sensor_5]})\n",
        "    pred = rf_carbon_monoxide.predict(df)[0]\n",
        "    pred2 = rf_benzene.predict(df)[0]\n",
        "    pred3 =rf_nitrogen_oxides.predict(df)[0]\n",
        "    print(pred,pred2,pred3)\n",
        "    return pred,pred2,pred3"
      ],
      "metadata": {
        "id": "LkkeOCDvNuUj"
      },
      "execution_count": 71,
      "outputs": []
    },
    {
      "cell_type": "code",
      "source": [
        "deg_C = gr.inputs.Textbox( label=\"deg_C\")\n",
        "relative_humidity= gr.inputs.Textbox(label=\"relative_humidity\")\n",
        "absolute_humidity= gr.inputs.Textbox(label=\"absolute_humidity\")\n",
        "sensor_1= gr.inputs.Textbox(label=\"sensor_1\")\n",
        "sensor_2= gr.inputs.Textbox(label=\"sensor_2\")\n",
        "sensor_3= gr.inputs.Textbox(label=\"sensor_3\")\n",
        "sensor_4= gr.inputs.Textbox(label=\"sensor_4\")\n",
        "sensor_5= gr.inputs.Textbox(label=\"sensor_5\")\n",
        "# CarbonMonoxide= gr.outputs.Textbox(label=\"CarbonMonoxide\")\n",
        "# Benzene = gr.outputs.Textbox(label=\"Benzene\")\n",
        "# NitrogenOxide = gr.outputs.Textbox(label=\"NitrogenOxide\")\n",
        "output = [gr.outputs.Textbox(label=\"CarbonMonoxide\"),gr.outputs.Textbox(label=\"Benzene\"), gr.outputs.Textbox(label=\"NitrogenOxide\")]\n",
        "gr.Interface(airpollution,[deg_C,relative_humidity,absolute_humidity,sensor_1,sensor_2,sensor_3,sensor_4,sensor_5],output,title=\"Air Pollution Prediction\").launch();"
      ],
      "metadata": {
        "colab": {
          "base_uri": "https://localhost:8080/",
          "height": 775
        },
        "id": "VfJerklkN6bf",
        "outputId": "3a50ccd0-f419-41b8-873a-1b57de0fbc07"
      },
      "execution_count": 72,
      "outputs": [
        {
          "output_type": "stream",
          "name": "stderr",
          "text": [
            "/usr/local/lib/python3.10/dist-packages/gradio/inputs.py:27: UserWarning: Usage of gradio.inputs is deprecated, and will not be supported in the future, please import your component from gradio.components\n",
            "  warnings.warn(\n",
            "/usr/local/lib/python3.10/dist-packages/gradio/inputs.py:30: UserWarning: `optional` parameter is deprecated, and it has no effect\n",
            "  super().__init__(\n",
            "/usr/local/lib/python3.10/dist-packages/gradio/inputs.py:30: UserWarning: `numeric` parameter is deprecated, and it has no effect\n",
            "  super().__init__(\n",
            "/usr/local/lib/python3.10/dist-packages/gradio/outputs.py:22: UserWarning: Usage of gradio.outputs is deprecated, and will not be supported in the future, please import your components from gradio.components\n",
            "  warnings.warn(\n"
          ]
        },
        {
          "output_type": "stream",
          "name": "stdout",
          "text": [
            "Colab notebook detected. To show errors in colab notebook, set debug=True in launch()\n",
            "Note: opening Chrome Inspector may crash demo inside Colab notebooks.\n",
            "\n",
            "To create a public link, set `share=True` in `launch()`.\n"
          ]
        },
        {
          "output_type": "display_data",
          "data": {
            "text/plain": [
              "<IPython.core.display.Javascript object>"
            ],
            "application/javascript": [
              "(async (port, path, width, height, cache, element) => {\n",
              "                        if (!google.colab.kernel.accessAllowed && !cache) {\n",
              "                            return;\n",
              "                        }\n",
              "                        element.appendChild(document.createTextNode(''));\n",
              "                        const url = await google.colab.kernel.proxyPort(port, {cache});\n",
              "\n",
              "                        const external_link = document.createElement('div');\n",
              "                        external_link.innerHTML = `\n",
              "                            <div style=\"font-family: monospace; margin-bottom: 0.5rem\">\n",
              "                                Running on <a href=${new URL(path, url).toString()} target=\"_blank\">\n",
              "                                    https://localhost:${port}${path}\n",
              "                                </a>\n",
              "                            </div>\n",
              "                        `;\n",
              "                        element.appendChild(external_link);\n",
              "\n",
              "                        const iframe = document.createElement('iframe');\n",
              "                        iframe.src = new URL(path, url).toString();\n",
              "                        iframe.height = height;\n",
              "                        iframe.allow = \"autoplay; camera; microphone; clipboard-read; clipboard-write;\"\n",
              "                        iframe.width = width;\n",
              "                        iframe.style.border = 0;\n",
              "                        element.appendChild(iframe);\n",
              "                    })(7863, \"/\", \"100%\", 500, false, window.element)"
            ]
          },
          "metadata": {}
        }
      ]
    }
  ],
  "metadata": {
    "colab": {
      "provenance": [],
      "include_colab_link": true
    },
    "kernelspec": {
      "display_name": "Python 3",
      "name": "python3"
    },
    "language_info": {
      "name": "python"
    }
  },
  "nbformat": 4,
  "nbformat_minor": 0
}